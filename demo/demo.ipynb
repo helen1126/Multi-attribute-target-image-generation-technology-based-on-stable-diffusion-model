{
 "cells": [
  {
   "cell_type": "markdown",
   "id": "98526750",
   "metadata": {},
   "source": [
    "# 多属性目标图像生成技术演示\n",
    "\n",
    "## 概述\n",
    "本 Jupyter Notebook 旨在为你展示基于稳定扩散模型的多属性目标图像生成技术的核心功能与使用方法。该技术聚焦于如何根据多个属性生成符合特定要求的目标图像，在图像生成领域具有重要的应用价值。通过本演示，你将了解到项目中涉及的主要模块，如 UNet 模型、多头注意力机制（MHA）以及空间 - 语义交叉注意力模块的使用方式，同时也能看到如何将文本信息转化为图像生成的语义信息。\n",
    "\n",
    "## 演示内容\n",
    "1. **模型加载与初始化**：展示如何加载项目中使用的关键模型，包括 UNet 模型、文本编码器等，并进行必要的初始化操作。\n",
    "2. **文本编码与语义嵌入**：介绍如何将输入的文本信息进行编码，转化为可供模型使用的语义嵌入向量，以及如何根据文本信息生成动态权重。\n",
    "3. **图像生成过程**：详细演示如何使用 UNet 模型结合语义嵌入向量和动态权重进行图像生成，并展示生成结果。\n",
    "4. **结果可视化**：将生成的图像进行可视化展示，方便你直观地观察生成效果。\n",
    "\n",
    "## 环境要求\n",
    "运行本演示需要安装以下依赖库：\n",
    "```plaintext\n",
    "torch\n",
    "torchvision\n",
    "opencv-python\n",
    "Pillow\n",
    "matplotlib\n",
    "transformers\n",
    "tensorboard\n",
    "redis\n",
    "geoip2\n",
    "flask\n",
    "scikit-learn\n",
    "numpy\n",
    "requests\n",
    "openai\n",
    "GPUtil\n",
    "openai-clip\n",
    "user-agents\n",
    "```\n",
    "你可以通过运行项目中的 `setup.py` 文件来安装这些依赖：\n",
    "```bash\n",
    "python setup.py install\n",
    "```\n",
    "\n",
    "## 注意事项\n",
    "- 本演示代码仅用于展示项目的核心功能，实际应用中可能需要根据具体需求进行调整和优化。\n",
    "- 在运行代码时，请确保你的环境满足项目的 Python 版本要求（Python 3.10）。\n",
    "\n",
    "## 算法流程图\n",
    "![alt text](算法.jpg)"
   ]
  },
  {
   "cell_type": "markdown",
   "id": "972e45c2",
   "metadata": {},
   "source": [
    "步骤 1: 环境设置与库导入"
   ]
  },
  {
   "cell_type": "code",
   "execution_count": 1,
   "id": "f4314789",
   "metadata": {},
   "outputs": [
    {
     "name": "stderr",
     "output_type": "stream",
     "text": [
      "f:\\Anaconda3\\envs\\MAT\\lib\\site-packages\\tqdm\\auto.py:21: TqdmWarning: IProgress not found. Please update jupyter and ipywidgets. See https://ipywidgets.readthedocs.io/en/stable/user_install.html\n",
      "  from .autonotebook import tqdm as notebook_tqdm\n"
     ]
    },
    {
     "name": "stdout",
     "output_type": "stream",
     "text": [
      "使用的设备: cpu\n"
     ]
    }
   ],
   "source": [
    "# 导入必要的库\n",
    "import torch\n",
    "import torchvision.transforms as transforms\n",
    "from PIL import Image\n",
    "import matplotlib.pyplot as plt\n",
    "import requests\n",
    "import json\n",
    "import hashlib\n",
    "import time\n",
    "from models.mha import TextEncoderWithMHA\n",
    "from models.dynamic_u_net import UNet\n",
    "\n",
    "# 提示：确保已经安装了所有依赖库，可通过运行以下命令安装：\n",
    "# pip install -r requirements.txt\n",
    "\n",
    "# 检查 GPU 是否可用\n",
    "device = torch.device(\"cuda\" if torch.cuda.is_available() else \"cpu\")\n",
    "print(f\"使用的设备: {device}\")"
   ]
  },
  {
   "cell_type": "markdown",
   "id": "eda14e3e",
   "metadata": {},
   "source": [
    "步骤 2: 文本编码"
   ]
  },
  {
   "cell_type": "code",
   "execution_count": null,
   "id": "15f5b4c1",
   "metadata": {},
   "outputs": [],
   "source": [
    "# 提示：这里使用 TextEncoderWithMHA 对输入的文本进行编码，得到语义嵌入\n",
    "# 初始化文本编码器\n",
    "text_encoder = TextEncoderWithMHA()\n",
    "text = [\"dog\", \"grass\"]  # 输入文本\n",
    "print(f\"输入的文本: {text}\")\n",
    "\n",
    "# 对文本进行编码\n",
    "result = text_encoder.encode_text(text)\n",
    "semantic_embedding = result[\"embeddings\"].to(device)\n",
    "print(\"语义嵌入的形状:\", semantic_embedding.shape)"
   ]
  },
  {
   "cell_type": "markdown",
   "id": "74409eb3",
   "metadata": {},
   "source": [
    "步骤 3: 动态权重计算"
   ]
  },
  {
   "cell_type": "code",
   "execution_count": null,
   "id": "5f07dbe3",
   "metadata": {},
   "outputs": [],
   "source": [
    "# 提示：调用 /api/v5/weight/calculate 接口计算动态权重\n",
    "# 构造请求数据\n",
    "request_data = {\n",
    "    \"base_prompt\": \"A dog on the grass\",\n",
    "    \"attributes\": [\n",
    "        {\n",
    "            \"name\": \"object\",\n",
    "            \"type\": \"text\",\n",
    "            \"value\": text[0],\n",
    "            \"initial_weight\": 0.8,\n",
    "            \"constraints\": {\n",
    "                \"min_weight\": 0.4,\n",
    "                \"max_weight\": 0.9,\n",
    "            }\n",
    "        },\n",
    "        {\n",
    "            \"name\": \"background\",\n",
    "            \"type\": \"text\",\n",
    "            \"value\": text[1],\n",
    "            \"initial_weight\": 0.2,\n",
    "            \"constraints\": {\n",
    "                \"min_weight\": 0.1,\n",
    "                \"max_weight\": 0.5,\n",
    "            }\n",
    "        }\n",
    "    ],\n",
    "    \"temperature\": 1.8,\n",
    "    \"fallback_strategy\": \"creative\",\n",
    "}\n",
    "\n",
    "# 获取时间戳\n",
    "timestamp = str(int(time.time()))\n",
    "# 检查时间戳是否在有效范围内（假设有效期为 60 秒）\n",
    "if int(time.time()) - int(timestamp) > 60:\n",
    "    print(\"时间戳已过期，请重新获取\")\n",
    "    timestamp = str(int(time.time()))\n",
    "\n",
    "data_str = json.dumps(request_data, sort_keys=True)\n",
    "\n",
    "# 计算签名\n",
    "message = f\"{data_str}{timestamp}\"\n",
    "signature = hashlib.sha256(message.encode()).hexdigest()\n",
    "\n",
    "headers = {\n",
    "    \"Content-Type\": \"application/json\",\n",
    "    \"X-Api-Key\": \"api_key\",\n",
    "    \"X-Timestamp\": timestamp,\n",
    "    \"X-Signature\": signature,\n",
    "}\n",
    "\n",
    "# 提示：确保 dynamic_weights 服务正在运行，监听在 http://127.0.0.1:5000\n",
    "# 调用 dynamic_weights 接口\n",
    "url = 'http://127.0.0.1:5000/api/v5/weight/calculate'\n",
    "response = requests.post(url, headers=headers, json=request_data)\n",
    "\n",
    "if response.status_code == 200:\n",
    "    response_data = response.json()\n",
    "    if response_data[\"code\"] == 200:\n",
    "        final_weights = response_data[\"data\"][\"final_weights\"]\n",
    "        weights = [final_weights[key] for key in text]\n",
    "        print(\"最终权重:\", final_weights)\n",
    "    else:\n",
    "        print(f\"Failed to get dynamic weights: {response_data}\")\n",
    "        weights = [1.0] * len(text)\n",
    "else:\n",
    "    print(f\"Failed to get dynamic weights: {response.text}\")\n",
    "    weights = [1.0] * len(text)"
   ]
  },
  {
   "cell_type": "markdown",
   "id": "cf6452d3",
   "metadata": {},
   "source": [
    "步骤 4: 图像加载与预处理"
   ]
  },
  {
   "cell_type": "code",
   "execution_count": null,
   "id": "bd5b4ea6",
   "metadata": {},
   "outputs": [],
   "source": [
    "# 提示：确保 image3.jpg 文件存在于当前工作目录中\n",
    "# 加载图片\n",
    "image_path = 'image3.jpg'  # 输入图像地址\n",
    "image = Image.open(image_path).convert('RGB')\n",
    "print(f\"加载的图像: {image_path}\")\n",
    "\n",
    "# 图像预处理\n",
    "transform = transforms.Compose([\n",
    "    transforms.Resize((128, 128)),\n",
    "    transforms.ToTensor()\n",
    "])\n",
    "input_image = transform(image).unsqueeze(0).to(device)\n",
    "print(\"输入图像的形状:\", input_image.shape)"
   ]
  },
  {
   "cell_type": "markdown",
   "id": "88b293ca",
   "metadata": {},
   "source": [
    "步骤 5: 模型初始化与推理"
   ]
  },
  {
   "cell_type": "code",
   "execution_count": null,
   "id": "d49a5aef",
   "metadata": {},
   "outputs": [],
   "source": [
    "# 提示：初始化 UNet 模型进行图像生成\n",
    "# 初始化 UNet 模型\n",
    "model = UNet(in_channels=3, out_channels=3).to(device)\n",
    "\n",
    "# 模型推理\n",
    "output = model(input_image, semantic_embedding, weights)\n",
    "output = output.cpu().squeeze(0).detach().numpy()\n",
    "\n",
    "# 归一化到 [0, 1] 范围\n",
    "output = (output - output.min()) / (output.max() - output.min() + 1e-8)\n",
    "\n",
    "# 调整维度以符合 imshow 要求 (H, W, C)\n",
    "output = output.transpose(1, 2, 0)"
   ]
  },
  {
   "cell_type": "markdown",
   "id": "c5a8d5ca",
   "metadata": {},
   "source": [
    "步骤 6: 结果可视化"
   ]
  },
  {
   "cell_type": "code",
   "execution_count": null,
   "id": "f365980e",
   "metadata": {},
   "outputs": [],
   "source": [
    "# 提示：显示和保存生成的图像\n",
    "# 显示和保存结果\n",
    "plt.imshow(output)\n",
    "plt.axis('off')\n",
    "plt.savefig('output_image.jpg', bbox_inches='tight', pad_inches=0)\n",
    "plt.show()\n",
    "print(\"生成的图像已保存为 output_image.jpg\")"
   ]
  }
 ],
 "metadata": {
  "kernelspec": {
   "display_name": "MAT",
   "language": "python",
   "name": "python3"
  },
  "language_info": {
   "codemirror_mode": {
    "name": "ipython",
    "version": 3
   },
   "file_extension": ".py",
   "mimetype": "text/x-python",
   "name": "python",
   "nbconvert_exporter": "python",
   "pygments_lexer": "ipython3",
   "version": "3.10.16"
  }
 },
 "nbformat": 4,
 "nbformat_minor": 5
}
