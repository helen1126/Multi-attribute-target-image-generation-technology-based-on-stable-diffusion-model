{
 "cells": [
  {
   "cell_type": "markdown",
   "id": "972e45c2",
   "metadata": {},
   "source": [
    "步骤 1: 环境设置与库导入"
   ]
  },
  {
   "cell_type": "code",
   "execution_count": null,
   "id": "f4314789",
   "metadata": {},
   "outputs": [],
   "source": [
    "# 导入必要的库\n",
    "import torch\n",
    "import torchvision.transforms as transforms\n",
    "from PIL import Image\n",
    "import matplotlib.pyplot as plt\n",
    "import requests\n",
    "import json\n",
    "import hashlib\n",
    "import time\n",
    "from models.mha import TextEncoderWithMHA\n",
    "from models.dynamic_u_net import UNet\n",
    "\n",
    "# 提示：确保已经安装了所有依赖库，可通过运行以下命令安装：\n",
    "# pip install -r requirements.txt\n",
    "\n",
    "# 检查 GPU 是否可用\n",
    "device = torch.device(\"cuda\" if torch.cuda.is_available() else \"cpu\")\n",
    "print(f\"使用的设备: {device}\")"
   ]
  },
  {
   "cell_type": "markdown",
   "id": "eda14e3e",
   "metadata": {},
   "source": [
    "步骤 2: 文本编码"
   ]
  },
  {
   "cell_type": "code",
   "execution_count": null,
   "id": "15f5b4c1",
   "metadata": {},
   "outputs": [],
   "source": [
    "# 提示：这里使用 TextEncoderWithMHA 对输入的文本进行编码，得到语义嵌入\n",
    "# 初始化文本编码器\n",
    "text_encoder = TextEncoderWithMHA()\n",
    "text = [\"dog\", \"grass\"]  # 输入文本\n",
    "print(f\"输入的文本: {text}\")\n",
    "\n",
    "# 对文本进行编码\n",
    "result = text_encoder.encode_text(text)\n",
    "semantic_embedding = result[\"embeddings\"].to(device)\n",
    "print(\"语义嵌入的形状:\", semantic_embedding.shape)"
   ]
  },
  {
   "cell_type": "markdown",
   "id": "74409eb3",
   "metadata": {},
   "source": [
    "步骤 3: 动态权重计算"
   ]
  },
  {
   "cell_type": "code",
   "execution_count": null,
   "id": "5f07dbe3",
   "metadata": {},
   "outputs": [],
   "source": [
    "# 提示：调用 /api/v5/weight/calculate 接口计算动态权重\n",
    "# 构造请求数据\n",
    "request_data = {\n",
    "    \"base_prompt\": \"A dog on the grass\",\n",
    "    \"attributes\": [\n",
    "        {\n",
    "            \"name\": \"object\",\n",
    "            \"type\": \"text\",\n",
    "            \"value\": text[0],\n",
    "            \"initial_weight\": 0.8,\n",
    "            \"constraints\": {\n",
    "                \"min_weight\": 0.4,\n",
    "                \"max_weight\": 0.9,\n",
    "            }\n",
    "        },\n",
    "        {\n",
    "            \"name\": \"background\",\n",
    "            \"type\": \"text\",\n",
    "            \"value\": text[1],\n",
    "            \"initial_weight\": 0.2,\n",
    "            \"constraints\": {\n",
    "                \"min_weight\": 0.1,\n",
    "                \"max_weight\": 0.5,\n",
    "            }\n",
    "        }\n",
    "    ],\n",
    "    \"temperature\": 1.8,\n",
    "    \"fallback_strategy\": \"creative\",\n",
    "}\n",
    "\n",
    "# 获取时间戳\n",
    "timestamp = str(int(time.time()))\n",
    "# 检查时间戳是否在有效范围内（假设有效期为 60 秒）\n",
    "if int(time.time()) - int(timestamp) > 60:\n",
    "    print(\"时间戳已过期，请重新获取\")\n",
    "    timestamp = str(int(time.time()))\n",
    "\n",
    "data_str = json.dumps(request_data, sort_keys=True)\n",
    "\n",
    "# 计算签名\n",
    "message = f\"{data_str}{timestamp}\"\n",
    "signature = hashlib.sha256(message.encode()).hexdigest()\n",
    "\n",
    "headers = {\n",
    "    \"Content-Type\": \"application/json\",\n",
    "    \"X-Api-Key\": \"api_key\",\n",
    "    \"X-Timestamp\": timestamp,\n",
    "    \"X-Signature\": signature,\n",
    "}\n",
    "\n",
    "# 提示：确保 dynamic_weights 服务正在运行，监听在 http://127.0.0.1:5000\n",
    "# 调用 dynamic_weights 接口\n",
    "url = 'http://127.0.0.1:5000/api/v5/weight/calculate'\n",
    "response = requests.post(url, headers=headers, json=request_data)\n",
    "\n",
    "if response.status_code == 200:\n",
    "    response_data = response.json()\n",
    "    if response_data[\"code\"] == 200:\n",
    "        final_weights = response_data[\"data\"][\"final_weights\"]\n",
    "        weights = [final_weights[key] for key in text]\n",
    "        print(\"最终权重:\", final_weights)\n",
    "    else:\n",
    "        print(f\"Failed to get dynamic weights: {response_data}\")\n",
    "        weights = [1.0] * len(text)\n",
    "else:\n",
    "    print(f\"Failed to get dynamic weights: {response.text}\")\n",
    "    weights = [1.0] * len(text)"
   ]
  },
  {
   "cell_type": "markdown",
   "id": "cf6452d3",
   "metadata": {},
   "source": [
    "步骤 4: 图像加载与预处理"
   ]
  },
  {
   "cell_type": "code",
   "execution_count": null,
   "id": "bd5b4ea6",
   "metadata": {},
   "outputs": [],
   "source": [
    "# 提示：确保 image3.jpg 文件存在于当前工作目录中\n",
    "# 加载图片\n",
    "image_path = 'image3.jpg'  # 输入图像地址\n",
    "image = Image.open(image_path).convert('RGB')\n",
    "print(f\"加载的图像: {image_path}\")\n",
    "\n",
    "# 图像预处理\n",
    "transform = transforms.Compose([\n",
    "    transforms.Resize((128, 128)),\n",
    "    transforms.ToTensor()\n",
    "])\n",
    "input_image = transform(image).unsqueeze(0).to(device)\n",
    "print(\"输入图像的形状:\", input_image.shape)"
   ]
  },
  {
   "cell_type": "markdown",
   "id": "88b293ca",
   "metadata": {},
   "source": [
    "步骤 5: 模型初始化与推理"
   ]
  },
  {
   "cell_type": "code",
   "execution_count": null,
   "id": "d49a5aef",
   "metadata": {},
   "outputs": [],
   "source": [
    "# 提示：初始化 UNet 模型进行图像生成\n",
    "# 初始化 UNet 模型\n",
    "model = UNet(in_channels=3, out_channels=3).to(device)\n",
    "\n",
    "# 模型推理\n",
    "output = model(input_image, semantic_embedding, weights)\n",
    "output = output.cpu().squeeze(0).detach().numpy()\n",
    "\n",
    "# 归一化到 [0, 1] 范围\n",
    "output = (output - output.min()) / (output.max() - output.min() + 1e-8)\n",
    "\n",
    "# 调整维度以符合 imshow 要求 (H, W, C)\n",
    "output = output.transpose(1, 2, 0)"
   ]
  },
  {
   "cell_type": "markdown",
   "id": "c5a8d5ca",
   "metadata": {},
   "source": [
    "步骤 6: 结果可视化"
   ]
  },
  {
   "cell_type": "code",
   "execution_count": null,
   "id": "f365980e",
   "metadata": {},
   "outputs": [],
   "source": [
    "# 提示：显示和保存生成的图像\n",
    "# 显示和保存结果\n",
    "plt.imshow(output)\n",
    "plt.axis('off')\n",
    "plt.savefig('output_image.jpg', bbox_inches='tight', pad_inches=0)\n",
    "plt.show()\n",
    "print(\"生成的图像已保存为 output_image.jpg\")"
   ]
  }
 ],
 "metadata": {
  "kernelspec": {
   "display_name": "Python 3",
   "language": "python",
   "name": "python3"
  },
  "language_info": {
   "name": "python",
   "version": "3.10.16"
  }
 },
 "nbformat": 4,
 "nbformat_minor": 5
}
